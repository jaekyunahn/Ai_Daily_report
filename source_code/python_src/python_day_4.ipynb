{
 "cells": [
  {
   "cell_type": "code",
   "execution_count": null,
   "id": "5e844682",
   "metadata": {},
   "outputs": [],
   "source": [
    "# 재귀함수\n",
    "\n",
    "# 재귀 함수란, 자기 자신을 호출 하는 함수로  자료를 반복적으로 사용할때 유용\n",
    "\n",
    "# 재귀함수로 factorial함수 구현하기\n",
    "\n",
    "# f(4) = 4 * f(3)\n",
    "#      = 4 * 3 * f(2)\n",
    "#         . . .\n",
    "#      = 4 * 3 * 2 * 1\n",
    "\n",
    "def factorial(number):\n",
    "#\n",
    "    if number == 1:\n",
    "        return 1\n",
    "    else :\n",
    "        res = number * factorial(number - 1)\n",
    "        return res\n",
    "#\n",
    "    \n",
    "res = factorial(5)\n",
    "print(\"!{} = {}\".format(5,res))"
   ]
  },
  {
   "cell_type": "code",
   "execution_count": null,
   "id": "ca90cd3e",
   "metadata": {},
   "outputs": [],
   "source": [
    "# fibonacci 수열 구현하기\n",
    "\n",
    "def fibonacci(number):\n",
    "#\n",
    "    global global_valiable_count\n",
    "    global_valiable_count += 1\n",
    "    if number == 1:\n",
    "        return 1\n",
    "    if number == 2:\n",
    "        return 1\n",
    "    else:\n",
    "        return fibonacci(number-1)+fibonacci(number-2)\n",
    "#\n",
    "\n",
    "global_valiable_count = 0\n",
    "fibonacci(35)\n",
    "print(\"fibonacci count:{}\".format(global_valiable_count) )"
   ]
  },
  {
   "cell_type": "code",
   "execution_count": null,
   "id": "e4edfac8",
   "metadata": {},
   "outputs": [],
   "source": [
    "dist_data = {\n",
    "    1:1,\n",
    "    2:2\n",
    "}\n",
    "\n",
    "def fibonacci_m(number):\n",
    "#    \n",
    "    global global_valiable_count\n",
    "    global_valiable_count += 1\n",
    "    \n",
    "    if number in dist_data:\n",
    "        return dist_data[number]\n",
    "    else :\n",
    "        output = fibonacci_m(number-1)+fibonacci_m(number-2)\n",
    "        dist_data[number] = output\n",
    "        return output\n",
    "#    \n",
    "\n",
    "global_valiable_count = 0\n",
    "fibonacci_m(35)\n",
    "print(\"fibonacci count:{}\".format(global_valiable_count) )\n"
   ]
  },
  {
   "cell_type": "code",
   "execution_count": null,
   "id": "7fb5cdec",
   "metadata": {},
   "outputs": [],
   "source": [
    "#튜플\n",
    "#함수와 함께 사용하는데 리스트와 비슷 하지만 요소 변경이 불가\n",
    "#괄호로 묶기도, 없는것도 있다\n",
    "# 튜플명 = (요소,요소, ... ,요소)\n",
    "\n",
    "tuple_test = (1,2,3,4)\n",
    "print(\"tuple_test={}\".format(tuple_test))\n",
    "\n",
    "a,b,c = 10,20,30\n",
    "print(\"tuple_test=> a={} , b={}, c={}\".format(a,b,c))\n",
    "\n",
    "#함수 리턴 사용도 가능\n",
    "def tuple_test_function():\n",
    "    return (10,20)\n",
    "print(\"tuple_test_function={}\".format(tuple_test_function()))\n",
    "\n",
    "#튜플 데이터 스왑\n",
    "a,b = 10,20\n",
    "a,b = b,a\n",
    "\n",
    "print(\"swap > a={}, b={}\".format(a,b))\n"
   ]
  },
  {
   "cell_type": "code",
   "execution_count": null,
   "id": "9358331a",
   "metadata": {},
   "outputs": [],
   "source": [
    "for index, data in enumerate([1,2,3,4]):\n",
    "    print(\"{}:{}\".format(index, data))"
   ]
  },
  {
   "cell_type": "code",
   "execution_count": null,
   "id": "9737f275",
   "metadata": {},
   "outputs": [],
   "source": [
    "#람다\n",
    "#매개 변수로 함수를 전달 하기 위해 함수를 간단하고 쉽게 선언 하는 방법\n",
    "\n",
    "def power(x):\n",
    "    return x*x\n",
    "\n",
    "def under3(x):\n",
    "    return x<3\n",
    "\n",
    "print(\"map(): \", list(map(power,[1,2,3,4,5])))\n",
    "print(\"filter(): \", list(filter(under3,[1,2,3,4,5])))\n",
    "\n"
   ]
  },
  {
   "cell_type": "code",
   "execution_count": null,
   "id": "ae93e1d3",
   "metadata": {},
   "outputs": [],
   "source": [
    "a_power = lambda x : x*x\n",
    "a_under3 = lambda x : x < 3\n",
    "\n",
    "print(\"map(): \", list(map(power,[1,2,3,4,5])))\n",
    "print(\"filter(): \", list(filter(under3,[1,2,3,4,5])))\n"
   ]
  },
  {
   "cell_type": "code",
   "execution_count": null,
   "id": "e3d5c3f0",
   "metadata": {},
   "outputs": [],
   "source": [
    "#파일 처리\n",
    "# 파일 오브젝트 생성\n",
    "# 변수명 = open(<경로>,<옵션>)\n",
    "# 파일 읽거나 쓰기\n",
    "# 변수명.write() 또는 변수명.read()\n",
    "# 파일 변경 사항 저장 하려면 close()함수 사용\n",
    "# 변수명.close()\n",
    "\n",
    "# open 옵션\n",
    "# w: 생성 할 때마다 기존 파일 엎고 새로 만들기\n",
    "# r: 존재하는 파일 읽기 모드\n",
    "# a : 뒤에 이어서 쓰기\n",
    "file = open(\"./test.txt\", \"w\")\n",
    "file.write(\"Hello File Test\")\n",
    "file.close()\n",
    "\n",
    "file = open(\"./test.txt\", \"r\")\n",
    "read_buffer = file.read()\n",
    "print(read_buffer)\n",
    "file.close()\n",
    "\n",
    "#파일오브젝트.seek(n)\n",
    "# ->n번째 위치로 파일 포인터 이동\n"
   ]
  },
  {
   "cell_type": "code",
   "execution_count": null,
   "id": "892c7f42",
   "metadata": {},
   "outputs": [],
   "source": [
    "#제너레이터\n",
    "#제너레이터 함수는 쌩으로는 실행 되지 않는다\n",
    "def g_func():\n",
    "    print(\"test1\")\n",
    "    yield \"yield test1\"\n",
    "    \n",
    "    print(\"test2\")\n",
    "    yield \"yield test2\"\n",
    "    \n",
    "    print(\"test3\")\n",
    "    yield \"yield test3\"\n",
    "\n",
    "func = g_func()\n",
    "\n",
    "#제너레이터 사용하기 -> next(제너레이터 함수명)\n",
    "#  yield까지 실행하고 yield 뒤에 나오는 자료를 return\n",
    "print(next(func))\n",
    "print(next(func))\n",
    "print(next(func))\n",
    "\n",
    "\n",
    "#오전 끝"
   ]
  },
  {
   "cell_type": "code",
   "execution_count": null,
   "id": "6e5dc0b4",
   "metadata": {},
   "outputs": [],
   "source": [
    "#\n",
    "print(\"::\".join([\"1\",\"2\",\"3\",\"4\",\"5\",\"6\"]))"
   ]
  },
  {
   "cell_type": "code",
   "execution_count": null,
   "id": "c872a21d",
   "metadata": {},
   "outputs": [],
   "source": [
    "number = list(range(1,10+1))\n",
    "\n",
    "# 홀수만 출력\n",
    "print(list(filter(lambda x : x % 2  == 1 ,number)))\n",
    "      \n",
    "# 3이상 7미만\n",
    "print(list(filter(lambda x : x >= 3 and x < 7 ,number)) )      \n",
    "  \n",
    "# 제곱해서 50 미만 추출하기\n",
    "print(list(filter(lambda x : (x * x)  < 50 ,number)))     "
   ]
  },
  {
   "cell_type": "code",
   "execution_count": null,
   "id": "c8b8e32b",
   "metadata": {},
   "outputs": [],
   "source": [
    "#에러\n",
    "#대부분 오류는 구문 오류나 인덱싱 오류가 주로 나온다\n",
    "\n",
    "#예외 처리 방법\n",
    "# 조건문 처리\n",
    "# try구문\n",
    "\n",
    "#Try 구문 예시\n",
    "#try + except\n",
    "#try + except + else\n",
    "#try + except + finally\n",
    "\n",
    "#try + except\n",
    "try:\n",
    "    input_number = int(input(\"정수 입력>\"))\n",
    "except Exception as error_code:\n",
    "    #Exception -> Error 메세지 출력\n",
    "    print(\"Error:\",error_code)\n",
    "else:\n",
    "    print(\"입력한 정수는 {}입니다.\".format(input_number))\n",
    "finally:\n",
    "    print(\"finally구문 실행.\")"
   ]
  },
  {
   "cell_type": "code",
   "execution_count": null,
   "id": "c8c42a6b",
   "metadata": {},
   "outputs": [],
   "source": [
    "# 파일 try.txt 을 읽기 모드로 오픈, Error 발생 시 a 모드로 오픈\n",
    "#마지막에 close 종료\n",
    "\n",
    "try:\n",
    "    fp = open(\"./try.txt\", \"r\")\n",
    "except Exception as error_code:\n",
    "    print(\"Error:\",error_code)\n",
    "    fp = open(\"./try.txt\", \"a\")\n",
    "    fp.write(\"Test\")\n",
    "else:\n",
    "    print(fp.read())\n",
    "finally:\n",
    "    fp.close()"
   ]
  },
  {
   "cell_type": "code",
   "execution_count": null,
   "id": "58df8f44",
   "metadata": {},
   "outputs": [],
   "source": [
    "def serch_number(serch_number,numbers):\n",
    "    try:\n",
    "        print(\"{}는 {}에 있습니다.\".format(serch_number,numbers.index(serch_number)))\n",
    "    except:\n",
    "        print(\"{}는 리스트에 없습니다.\".format(serch_number) )\n",
    "    finally:\n",
    "        print(\"함수가 종료 되었습니다.\")\n",
    "    \n",
    "        \n",
    "numbers = [52,273,32,103,90,10,275]\n",
    "\n",
    "serch_number(53,numbers)\n",
    "serch_number(103,numbers)\n"
   ]
  },
  {
   "cell_type": "code",
   "execution_count": null,
   "id": "d3925502",
   "metadata": {},
   "outputs": [],
   "source": [
    "numbers = [52,273,32,103,90,10,275]\n",
    "\n",
    "try:\n",
    "    input_number = int(input(\"정수 입력>\"))\n",
    "    print(\"{}는 {}번 위치에 있습니다.\".format(input_number,numbers.index(serch_number) ))\n",
    "except ValueError as error_code:\n",
    "    print(\"정수를 입력해주세요:{}\".format(error_code) )\n",
    "except IndexError as error_code:\n",
    "    print(\"범위를 벗어났습니다:{}\".format(error_code))\n",
    "except Exception as error_code:\n",
    "    print(\"Error:\",error_code)\n",
    "    "
   ]
  },
  {
   "cell_type": "code",
   "execution_count": null,
   "id": "9a6b22bf",
   "metadata": {},
   "outputs": [],
   "source": [
    "# raise -> 강제로 종료 하는 구문\n"
   ]
  }
 ],
 "metadata": {
  "kernelspec": {
   "display_name": "Python 3",
   "language": "python",
   "name": "python3"
  },
  "language_info": {
   "codemirror_mode": {
    "name": "ipython",
    "version": 3
   },
   "file_extension": ".py",
   "mimetype": "text/x-python",
   "name": "python",
   "nbconvert_exporter": "python",
   "pygments_lexer": "ipython3",
   "version": "3.8.8"
  }
 },
 "nbformat": 4,
 "nbformat_minor": 5
}
