{
 "cells": [
  {
   "cell_type": "code",
   "execution_count": null,
   "id": "fbcab700",
   "metadata": {},
   "outputs": [],
   "source": [
    "print(\"Hello Python\")"
   ]
  },
  {
   "cell_type": "code",
   "execution_count": null,
   "id": "da8e773a",
   "metadata": {},
   "outputs": [],
   "source": [
    "a = 10\n",
    "b = 20\n",
    "a + b\n",
    "# a + b\n"
   ]
  },
  {
   "cell_type": "markdown",
   "id": "f918adca",
   "metadata": {},
   "source": [
    "mark 모드 입니다. 명령어는 m"
   ]
  },
  {
   "cell_type": "code",
   "execution_count": null,
   "id": "30ab35e9",
   "metadata": {},
   "outputs": [],
   "source": [
    "#코드 모드 입니다. 명령어는 y"
   ]
  },
  {
   "cell_type": "code",
   "execution_count": null,
   "id": "143b700a",
   "metadata": {},
   "outputs": [],
   "source": [
    "import keyword\n",
    "\n",
    "print(keyword.kwlist)"
   ]
  },
  {
   "cell_type": "code",
   "execution_count": null,
   "id": "d21e9369",
   "metadata": {},
   "outputs": [],
   "source": [
    "#주석\n",
    "'''주석\n",
    "주석\n",
    "주석\n",
    "코드 여러줄 주석 칠때'''\n",
    "\n",
    "# 여러줄 드래그 하고 ctrl + / (슬레시)하면 여러줄 주석 처리 되거나 주석 해제. 토글 기능\n",
    "\n",
    "# 여러줄\n",
    "# 주석\n",
    "# 처리\n",
    "\n",
    "10 + 20 #test 30"
   ]
  },
  {
   "cell_type": "code",
   "execution_count": null,
   "id": "98f19b6d",
   "metadata": {},
   "outputs": [],
   "source": [
    "# 하나만 출력합니다.\n",
    "print(\"#하나만 출력합니다.\")\n",
    "print(\"Hello Python Programming...!\")\n",
    "print()\n",
    "\n",
    "# 여러개를 출력합니다.\n",
    "print(\"# 여러개를 출력합니다.\")\n",
    "print(10,20,30,40,50)\n",
    "print(\"안녕하세요\",\"저의\",\"이름은\",\"안재균 입니다.\")\n",
    "print()\n",
    "\n",
    "# 아무 것도 입력하지 않으면 단순하게 줄바꿈 합니다.\n",
    "print(\"# 아무 것도 입력하지 않으면 단순하게 줄바꿈 합니다.\")\n",
    "print(\"---확인 전용 선---\")\n",
    "print()\n",
    "print()\n",
    "print(\"---확인 전용 선---\")"
   ]
  },
  {
   "cell_type": "code",
   "execution_count": null,
   "id": "397278d7",
   "metadata": {},
   "outputs": [],
   "source": [
    "#문자열 내부에 따옴표 삽입하기\n",
    "print(\"----\\\"안녕하세요\\\"----\")\n",
    "# \\n은 new line, \\t는 tab\n",
    "\n",
    "print(\"이름\\t나이\\t지역\")\n",
    "print(\"윤인성\\t25\\t강서구\")\n",
    "print(\"윤아린\\t24\\t강서구\")\n",
    "print(\"구름\\t3\\t강서구\")"
   ]
  },
  {
   "cell_type": "code",
   "execution_count": null,
   "id": "2cb1112f",
   "metadata": {},
   "outputs": [],
   "source": [
    "#여러 라인에 문자열 만들기\n",
    "print(\"동해물과\\n백두산이\\n마르고 닳도록\\n하느님이\\n보우하사\\n우리나라 만세\")"
   ]
  },
  {
   "cell_type": "code",
   "execution_count": null,
   "id": "9942f86a",
   "metadata": {},
   "outputs": [],
   "source": [
    "#아니면 \"\"\" \"\"\" 로 묶어서 가능\n",
    "print(\"\"\"\n",
    "동해물과\n",
    "백두산이\n",
    "마르고 닳도록\n",
    "하느님이\n",
    "보우하사\n",
    "우리나라 만세\n",
    "\"\"\")"
   ]
  },
  {
   "cell_type": "code",
   "execution_count": null,
   "id": "40f71741",
   "metadata": {},
   "outputs": [],
   "source": [
    "#문자열 연산\n",
    "#덧셈기호 -> 문자열끼리 붙이는 기능\n",
    "#곱셈기호 -> 문자열을 반복함"
   ]
  },
  {
   "cell_type": "code",
   "execution_count": null,
   "id": "9be6693a",
   "metadata": {},
   "outputs": [],
   "source": [
    "#문자열 연산자 : +\n",
    "print(\"안녕\" + \"하세요\")\n",
    "#res=안녕하세요\n",
    "print(\"안녕하세요\" * 3)\n",
    "#res=안녕하세요안녕하세요안녕하세요"
   ]
  },
  {
   "cell_type": "code",
   "execution_count": null,
   "id": "d63c109a",
   "metadata": {},
   "outputs": [],
   "source": [
    "#문자열 인덱싱\n",
    "# 안녕하세요\n",
    "# 01234\n",
    "# -5 -4 -3 -2 -1\n",
    "str_s = \"안녕하세요\"\n",
    "print(str_s)\n",
    "print(str_s[0],str_s[2])\n",
    "print(str_s[-5])\n",
    "\n",
    "#문자열 범위 선택 연산자 \":\"\n",
    "print(str_s[1:4])\n",
    "\n",
    "#문자열 범위 over\n",
    "##print(str_s[5])\n",
    "#error msg->IndexError: string index out of range\n",
    "\n",
    "#문자열 길이 재는 함수\n",
    "print(len(str_s))"
   ]
  },
  {
   "cell_type": "code",
   "execution_count": null,
   "id": "c300f6ba",
   "metadata": {},
   "outputs": [],
   "source": [
    "#str = \"임의로 문자를 넣으세요\"\n",
    "#str 길이를 구해서 처음 문자를 - 방향 인덱스로 구해서 출력하세요\n",
    "str_s = \"show me the money\"\n",
    "str_rev_index = (len(str_s) * -1 )\n",
    "print(str[str_rev_index])\n",
    "#또는\n",
    "print(str_s[-len(str_s)])"
   ]
  },
  {
   "cell_type": "code",
   "execution_count": null,
   "id": "a931fb1d",
   "metadata": {},
   "outputs": [],
   "source": [
    "#숫자 :정수 , 실수\n",
    "#연산자 : 사칙연산, //(몫), %(나머지), **(거듭제곰)\n",
    "print(\"10 + 5=\", 10 + 5)\n",
    "print(\"10 - 5=\", 10 - 5)\n",
    "print(\"10 * 5=\", 10 * 5)\n",
    "print(\"10 / 5=\", 10 / 5)\n",
    "print(\"10 // 3=\", 10 // 3)\n",
    "print(\"10 % 3=\", 10 % 3)\n",
    "print(\"10 ** 5=\", 10 ** 5)"
   ]
  },
  {
   "cell_type": "code",
   "execution_count": 1,
   "id": "9709ca0e",
   "metadata": {},
   "outputs": [
    {
     "name": "stdout",
     "output_type": "stream",
     "text": [
      "5\n",
      "1.1415899999999999\n",
      "6.28318\n",
      "string 10\n"
     ]
    },
    {
     "data": {
      "text/plain": [
       "'10strig'"
      ]
     },
     "execution_count": 1,
     "metadata": {},
     "output_type": "execute_result"
    }
   ],
   "source": [
    "# int() -> 정수로 변환\n",
    "pi = 3.14159\n",
    "print(int(pi+2))\n",
    "print(pi - 2)\n",
    "print(pi * 2)\n",
    "\n",
    "print(\"string \" + \"10\")\n",
    "\n",
    "str(10)+\"strig\""
   ]
  },
  {
   "cell_type": "code",
   "execution_count": 5,
   "id": "267b1141",
   "metadata": {},
   "outputs": [
    {
     "name": "stdout",
     "output_type": "stream",
     "text": [
      "num= 160\n",
      "str_val= abcdtestabcdtest\n"
     ]
    }
   ],
   "source": [
    "#복합 대입 연산자\n",
    "num = 100\n",
    "num += 10\n",
    "num += 20\n",
    "num += 30\n",
    "print(\"num=\",num)\n",
    "\n",
    "str_val = \"abcd\"\n",
    "str_val += \"test\"\n",
    "str_val *= 2\n",
    "print(\"str_val=\" , str_val)"
   ]
  },
  {
   "cell_type": "code",
   "execution_count": 9,
   "id": "982b08ef",
   "metadata": {},
   "outputs": [
    {
     "name": "stdout",
     "output_type": "stream",
     "text": [
      "문자열 입력>showmethemoney\n",
      "showmethemoney\n",
      "첫번째: s , 마지막: y\n"
     ]
    }
   ],
   "source": [
    "#input() -> 키보드로 부터 문자열을 입력 받는 함수, 반듯이 받을 변수 기입해야 한다\n",
    "str_val = input(\"문자열 입력>\")\n",
    "print(str_val)\n",
    "\n",
    "#input(\"받는 변수 없이 하면 문자열 입력>\")\n",
    "\n",
    "#문자열을 입력 받아 문자열의 길이를 출력하고 처음 글자와 마지막 글자 출력\n",
    "print(\"첫번째:\",str_val[0], \", 마지막:\", str_val[len(str_val) - 1])"
   ]
  },
  {
   "cell_type": "code",
   "execution_count": 11,
   "id": "35c6bb0a",
   "metadata": {},
   "outputs": [
    {
     "name": "stdout",
     "output_type": "stream",
     "text": [
      "숫자 1>10\n",
      "숫자 2>5\n",
      "문자열 입력>show\n",
      " a + b =  15\n",
      " a - b =  5\n",
      " a * b =  50\n",
      " a / b =  2.0\n",
      "showshowshowshowshowshowshowshowshowshow\n"
     ]
    }
   ],
   "source": [
    "#\n",
    "num_1 = int(input(\"숫자 1>\"))\n",
    "num_2 = int(input(\"숫자 2>\"))\n",
    "\n",
    "str_val = input(\"문자열 입력>\")\n",
    "\n",
    "print(\" a + b = \", num_1 + num_2)\n",
    "print(\" a - b = \", num_1 - num_2)\n",
    "print(\" a * b = \", num_1 * num_2)\n",
    "print(\" a / b = \", num_1 / num_2)\n",
    "\n",
    "print(str_val * num_1)"
   ]
  },
  {
   "cell_type": "code",
   "execution_count": null,
   "id": "aa4482ae",
   "metadata": {},
   "outputs": [],
   "source": []
  },
  {
   "cell_type": "code",
   "execution_count": null,
   "id": "77b484fc",
   "metadata": {},
   "outputs": [],
   "source": []
  }
 ],
 "metadata": {
  "kernelspec": {
   "display_name": "Python 3",
   "language": "python",
   "name": "python3"
  },
  "language_info": {
   "codemirror_mode": {
    "name": "ipython",
    "version": 3
   },
   "file_extension": ".py",
   "mimetype": "text/x-python",
   "name": "python",
   "nbconvert_exporter": "python",
   "pygments_lexer": "ipython3",
   "version": "3.8.8"
  }
 },
 "nbformat": 4,
 "nbformat_minor": 5
}
